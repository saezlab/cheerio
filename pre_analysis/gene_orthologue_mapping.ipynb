{
 "cells": [
  {
   "cell_type": "code",
   "execution_count": 1,
   "id": "8df00d21",
   "metadata": {},
   "outputs": [],
   "source": [
    "import decoupler as dc\n",
    "import pandas as pd"
   ]
  },
  {
   "cell_type": "code",
   "execution_count": 2,
   "id": "fa5d5ddc",
   "metadata": {},
   "outputs": [
    {
     "name": "stdout",
     "output_type": "stream",
     "text": [
      "Help on function translate_net in module decoupler.omnip:\n",
      "\n",
      "translate_net(net: 'pd.DataFrame', columns: 'str | Iterable[str]' = ('source', 'target', 'genesymbol'), source_organism: 'str | int' = 'human', target_organism: 'str | int' = 'mouse', id_type: 'str | tuple[str, str]' = 'genesymbol', unique_by: 'Iterable[str] | None' = ('source', 'target'), **kwargs: 'dict[str, str]') -> 'pd.DataFrame'\n",
      "    Translate networks between species by orthology.\n",
      "    \n",
      "    This function downloads orthology databases from omnipath and converts\n",
      "    genes between species. The first time you run this function will take a\n",
      "    while (~15 minutes) but then it stores all the information in cache for\n",
      "    quick reusability.\n",
      "    \n",
      "    In case you need to reset the cache, you can do it by doing:\n",
      "    ``rm -r ~/.pypath/cache/``.\n",
      "    \n",
      "    With its default parameters, this function translates almost any network\n",
      "    or annotation data frame acquired by the functions in this module from\n",
      "    human to mouse. For the PROGENy resource you should pass ``columns =\n",
      "    \"target\"``, as here the `source` column contains pathways, not identifers.\n",
      "    \n",
      "    Parameters\n",
      "    ----------\n",
      "    net : DataFrame\n",
      "        Network in long format.\n",
      "    columns : str | list[str] | dict[str, str] | None\n",
      "        One or more columns to be translated. These columns must contain\n",
      "        identifiers of the source organism. It can be a single column name,\n",
      "        a list of column names, or a dict with column names as keys and the\n",
      "        type of identifiers in these columns as values.\n",
      "    source_organism: int | str\n",
      "        Name or NCBI Taxonomy ID of the organism to translate from.\n",
      "    target_organism : int | str\n",
      "        Name or NCBI Taxonomy ID of the organism to translate to.\n",
      "    id_type: str | tuple[str, str]\n",
      "        Shortcut to provide a single identifier type if all columns\n",
      "        should be translated from and to the same ID type. If a tuple of two\n",
      "        provided, the translation happens from the first ID type and the\n",
      "        orthologs returned in the second ID type.\n",
      "    kwargs: str | tuple[str, str]\n",
      "        Alternative way to pass ``columns``. The only limitation is that\n",
      "        column names can not match any of the existing arguments of this\n",
      "        function.\n",
      "    \n",
      "    Returns\n",
      "    -------\n",
      "    hom_net : DataFrame\n",
      "        Network in long format with translated genes.\n",
      "\n"
     ]
    }
   ],
   "source": [
    "help(dc.translate_net)"
   ]
  },
  {
   "cell_type": "code",
   "execution_count": 3,
   "id": "8fcc5e54",
   "metadata": {},
   "outputs": [],
   "source": [
    "df = pd.read_csv('../data/gene_names.csv')\n",
    "#df.info()\n",
    "hs = df[df[\"spec\"] == \"Hs\"]\n",
    "mm = df[df[\"spec\"] == \"Mm\"]\n",
    "rn = df[df[\"spec\"] == \"Rn\"]"
   ]
  },
  {
   "cell_type": "code",
   "execution_count": null,
   "id": "037f344f",
   "metadata": {},
   "outputs": [
    {
     "ename": "KeyboardInterrupt",
     "evalue": "",
     "output_type": "error",
     "traceback": [
      "\u001b[0;31m---------------------------------------------------------------------------\u001b[0m",
      "\u001b[0;31mKeyboardInterrupt\u001b[0m                         Traceback (most recent call last)",
      "File \u001b[0;32m~/programs/mambaforge/envs/R-4.3.1/lib/python3.11/site-packages/pypath/share/curl.py:1548\u001b[0m, in \u001b[0;36mCurl.update_progress\u001b[0;34m(self, download_total, downloaded, upload_total, uploaded)\u001b[0m\n\u001b[1;32m   1544\u001b[0m             \u001b[38;5;28mself\u001b[39m\u001b[38;5;241m.\u001b[39mjsessionid \u001b[38;5;241m=\u001b[39m [\u001b[38;5;124mu\u001b[39m\u001b[38;5;124m'\u001b[39m\u001b[38;5;124mCookie: \u001b[39m\u001b[38;5;132;01m%s\u001b[39;00m\u001b[38;5;124m'\u001b[39m \u001b[38;5;241m%\u001b[39m jsess[\u001b[38;5;241m0\u001b[39m]]\n\u001b[1;32m   1546\u001b[0m     \u001b[38;5;28;01mreturn\u001b[39;00m \u001b[38;5;28mself\u001b[39m\u001b[38;5;241m.\u001b[39mjsessionid\n\u001b[0;32m-> 1548\u001b[0m \u001b[38;5;28;01mdef\u001b[39;00m \u001b[38;5;21mupdate_progress\u001b[39m(\u001b[38;5;28mself\u001b[39m, download_total, downloaded, upload_total,\n\u001b[1;32m   1549\u001b[0m                     uploaded):\n\u001b[1;32m   1550\u001b[0m     \u001b[38;5;28;01mif\u001b[39;00m \u001b[38;5;28mself\u001b[39m\u001b[38;5;241m.\u001b[39mprogress \u001b[38;5;129;01mis\u001b[39;00m \u001b[38;5;129;01mnot\u001b[39;00m \u001b[38;5;28;01mNone\u001b[39;00m:\n\u001b[1;32m   1551\u001b[0m         \u001b[38;5;28mself\u001b[39m\u001b[38;5;241m.\u001b[39mtotal \u001b[38;5;241m=\u001b[39m \u001b[38;5;28mself\u001b[39m\u001b[38;5;241m.\u001b[39mbytes_prefix(download_total)\n",
      "\u001b[0;31mKeyboardInterrupt\u001b[0m: "
     ]
    }
   ],
   "source": [
    "hs_to_mm = dc.translate_net(hs, columns=\"gene\", source_organism=\"human\", target_organism=\"mouse\")\n",
    "hs_to_mm"
   ]
  },
  {
   "cell_type": "code",
   "execution_count": null,
   "id": "a026f9c3",
   "metadata": {},
   "outputs": [],
   "source": [
    "rn_to_mm = dc.translate_net(rn, columns=\"gene\", source_organism=\"rat\", target_organism=\"mouse\")"
   ]
  },
  {
   "cell_type": "code",
   "execution_count": null,
   "id": "3f46c7da-b6aa-4e79-a1dc-ea7df56bd906",
   "metadata": {},
   "outputs": [],
   "source": [
    "print(df)"
   ]
  }
 ],
 "metadata": {
  "kernelspec": {
   "display_name": "Python 3 (ipykernel)",
   "language": "python",
   "name": "python3"
  },
  "language_info": {
   "codemirror_mode": {
    "name": "ipython",
    "version": 3
   },
   "file_extension": ".py",
   "mimetype": "text/x-python",
   "name": "python",
   "nbconvert_exporter": "python",
   "pygments_lexer": "ipython3",
   "version": "3.11.0"
  }
 },
 "nbformat": 4,
 "nbformat_minor": 5
}
