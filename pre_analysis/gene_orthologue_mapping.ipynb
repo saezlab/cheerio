{
 "cells": [
  {
   "cell_type": "code",
   "execution_count": 1,
   "id": "8df00d21",
   "metadata": {},
   "outputs": [
    {
     "ename": "ModuleNotFoundError",
     "evalue": "No module named 'decoupler'",
     "output_type": "error",
     "traceback": [
      "\u001b[0;31m---------------------------------------------------------------------------\u001b[0m",
      "\u001b[0;31mModuleNotFoundError\u001b[0m                       Traceback (most recent call last)",
      "Cell \u001b[0;32mIn[1], line 2\u001b[0m\n\u001b[1;32m      1\u001b[0m \u001b[38;5;66;03m#import pandas as pd\u001b[39;00m\n\u001b[0;32m----> 2\u001b[0m \u001b[38;5;28;01mimport\u001b[39;00m \u001b[38;5;21;01mdecoupler\u001b[39;00m \u001b[38;5;28;01mas\u001b[39;00m \u001b[38;5;21;01mdc\u001b[39;00m\n\u001b[1;32m      3\u001b[0m \u001b[38;5;66;03m#import omnipath as op\u001b[39;00m\n\u001b[1;32m      4\u001b[0m \u001b[38;5;28;01mfrom\u001b[39;00m \u001b[38;5;21;01mpypath\u001b[39;00m\u001b[38;5;21;01m.\u001b[39;00m\u001b[38;5;21;01mutils\u001b[39;00m \u001b[38;5;28;01mimport\u001b[39;00m mapping\n",
      "\u001b[0;31mModuleNotFoundError\u001b[0m: No module named 'decoupler'"
     ]
    }
   ],
   "source": [
    "#import pandas as pd\n",
    "import decoupler as dc\n",
    "#import omnipath as op\n",
    "from pypath.utils import mapping"
   ]
  },
  {
   "cell_type": "code",
   "execution_count": 2,
   "id": "fa5d5ddc",
   "metadata": {},
   "outputs": [
    {
     "name": "stdout",
     "output_type": "stream",
     "text": [
      "Help on function translate_net in module decoupler.omnip:\n",
      "\n",
      "translate_net(net: 'pd.DataFrame', columns: 'str | Iterable[str]' = ('source', 'target', 'genesymbol'), source_organism: 'str | int' = 'human', target_organism: 'str | int' = 'mouse', id_type: 'str | tuple[str, str]' = 'genesymbol', unique_by: 'Iterable[str] | None' = ('source', 'target'), **kwargs: 'dict[str, str]') -> 'pd.DataFrame'\n",
      "    Translate networks between species by orthology.\n",
      "    \n",
      "    This function downloads orthology databases from omnipath and converts\n",
      "    genes between species. The first time you run this function will take a\n",
      "    while (~15 minutes) but then it stores all the information in cache for\n",
      "    quick reusability.\n",
      "    \n",
      "    In case you need to reset the cache, you can do it by doing:\n",
      "    ``rm -r ~/.pypath/cache/``.\n",
      "    \n",
      "    With its default parameters, this function translates almost any network\n",
      "    or annotation data frame acquired by the functions in this module from\n",
      "    human to mouse. For the PROGENy resource you should pass ``columns =\n",
      "    \"target\"``, as here the `source` column contains pathways, not identifers.\n",
      "    \n",
      "    Parameters\n",
      "    ----------\n",
      "    net : DataFrame\n",
      "        Network in long format.\n",
      "    columns : str | list[str] | dict[str, str] | None\n",
      "        One or more columns to be translated. These columns must contain\n",
      "        identifiers of the source organism. It can be a single column name,\n",
      "        a list of column names, or a dict with column names as keys and the\n",
      "        type of identifiers in these columns as values.\n",
      "    source_organism: int | str\n",
      "        Name or NCBI Taxonomy ID of the organism to translate from.\n",
      "    target_organism : int | str\n",
      "        Name or NCBI Taxonomy ID of the organism to translate to.\n",
      "    id_type: str | tuple[str, str]\n",
      "        Shortcut to provide a single identifier type if all columns\n",
      "        should be translated from and to the same ID type. If a tuple of two\n",
      "        provided, the translation happens from the first ID type and the\n",
      "        orthologs returned in the second ID type.\n",
      "    kwargs: str | tuple[str, str]\n",
      "        Alternative way to pass ``columns``. The only limitation is that\n",
      "        column names can not match any of the existing arguments of this\n",
      "        function.\n",
      "    \n",
      "    Returns\n",
      "    -------\n",
      "    hom_net : DataFrame\n",
      "        Network in long format with translated genes.\n",
      "\n"
     ]
    }
   ],
   "source": [
    "help(dc.translate_net)"
   ]
  },
  {
   "cell_type": "code",
   "execution_count": 5,
   "id": "8fcc5e54",
   "metadata": {},
   "outputs": [],
   "source": [
    "df = pd.read_csv('gene_names.csv')\n",
    "#df.info()\n",
    "hs = df[df[\"spec\"] == \"Hs\"]\n",
    "mm = df[df[\"spec\"] == \"Mm\"]\n",
    "rn = df[df[\"spec\"] == \"Rn\"]\n"
   ]
  },
  {
   "cell_type": "code",
   "execution_count": 4,
   "id": "6e9a4c9a",
   "metadata": {},
   "outputs": [
    {
     "ename": "NameError",
     "evalue": "name 'homology' is not defined",
     "output_type": "error",
     "traceback": [
      "\u001b[0;31m---------------------------------------------------------------------------\u001b[0m",
      "\u001b[0;31mNameError\u001b[0m                                 Traceback (most recent call last)",
      "Cell \u001b[0;32mIn[4], line 36\u001b[0m\n\u001b[1;32m     34\u001b[0m df_h \u001b[38;5;241m=\u001b[39m df_h\u001b[38;5;241m.\u001b[39mmerge(up_gs_human, left_on \u001b[38;5;241m=\u001b[39m \u001b[38;5;124m'\u001b[39m\u001b[38;5;124mgene\u001b[39m\u001b[38;5;124m'\u001b[39m, right_on \u001b[38;5;241m=\u001b[39m \u001b[38;5;124m'\u001b[39m\u001b[38;5;124mgenesymbol\u001b[39m\u001b[38;5;124m'\u001b[39m, how \u001b[38;5;241m=\u001b[39m \u001b[38;5;124m'\u001b[39m\u001b[38;5;124mleft\u001b[39m\u001b[38;5;124m'\u001b[39m)\n\u001b[1;32m     35\u001b[0m \u001b[38;5;66;03m# translate the human UniProt to mouse UniProt\u001b[39;00m\n\u001b[0;32m---> 36\u001b[0m human_mouse \u001b[38;5;241m=\u001b[39m homology\u001b[38;5;241m.\u001b[39mget_df(\u001b[38;5;241m10090\u001b[39m)\n\u001b[1;32m     37\u001b[0m df_h_m \u001b[38;5;241m=\u001b[39m df_h\u001b[38;5;241m.\u001b[39mmerge(human_mouse, left_on \u001b[38;5;241m=\u001b[39m \u001b[38;5;124m'\u001b[39m\u001b[38;5;124muniprot\u001b[39m\u001b[38;5;124m'\u001b[39m, right_on \u001b[38;5;241m=\u001b[39m \u001b[38;5;124m'\u001b[39m\u001b[38;5;124msource\u001b[39m\u001b[38;5;124m'\u001b[39m, how \u001b[38;5;241m=\u001b[39m \u001b[38;5;124m'\u001b[39m\u001b[38;5;124mleft\u001b[39m\u001b[38;5;124m'\u001b[39m)\n\u001b[1;32m     38\u001b[0m \u001b[38;5;66;03m# translate the mouse UniProt to gene symbol\u001b[39;00m\n",
      "\u001b[0;31mNameError\u001b[0m: name 'homology' is not defined"
     ]
    }
   ],
   "source": [
    "\n",
    "df = pd.read_csv('gene_names.csv')\n",
    "hs = df[df['spec'] == 'Hs']\n",
    "# we have >30k human gene symbols here, that's way more than\n",
    "# all human primary gene symbols\n",
    "hs.gene.unique().shape\n",
    "\n",
    "human_gs = set(hs.gene.unique())\n",
    "up_gs_human = mapping.translation_df('uniprot', 'genesymbol')\n",
    "# here we see 20k, these are the primary human gene symbols\n",
    "# of protein coding genes\n",
    "up_gs_human.genesymbol.unique().shape\n",
    "\n",
    "non_primary_human_gs = human_gs - set(up_gs_human.genesymbol.unique())\n",
    "# these are the ones we don't see in UniProt\n",
    "len(non_primary_human_gs)\n",
    "\n",
    "list(non_primary_human_gs)[:100]\n",
    "# few can be translated to UniProt because it is a secondary\n",
    "# gene symbol:\n",
    "mapping.map_name('TWISTNB', 'genesymbol', 'uniprot')\n",
    "{'Q3B726'}\n",
    "# but most of them are not recognized at all\n",
    "mapping.map_name('NRIR', 'genesymbol', 'uniprot')\n",
    "mapping.map_name('MTND4P12', 'genesymbol', 'uniprot')\n",
    "primary_human_gs = human_gs & set(up_gs_human.genesymbol.unique())\n",
    "len(primary_human_gs)\n",
    "19137\n",
    "df_h = df[df.gene.isin(primary_human_gs)]\n",
    "df_h = df_h[df_h.spec == 'Hs']\n",
    "df_h.shape\n",
    "(19137, 2)\n",
    "df_h['record'] = list(range(0, df_h.shape[0]))\n",
    "# translate the human gene symbols to UniProt\n",
    "df_h = df_h.merge(up_gs_human, left_on = 'gene', right_on = 'genesymbol', how = 'left')\n",
    "# translate the human UniProt to mouse UniProt\n",
    "human_mouse = homology.get_df(10090)\n",
    "df_h_m = df_h.merge(human_mouse, left_on = 'uniprot', right_on = 'source', how = 'left')\n",
    "# translate the mouse UniProt to gene symbol\n",
    "up_gs_mouse = mapping.translation_df('uniprot', 'genesymbol', ncbi_tax_id = 10090)\n",
    "df_h_m_gs = df_h_m.merge(up_gs_mouse, left_on = 'target', right_on = 'uniprot', how = 'left')\n",
    "df_h_m_pp = df_h_m_gs[~df_h_m_gs.genesymbol_y.isna()]\n",
    "# and finally, do the same with the decoupler function\n",
    "df_h_m_dc = dc.translate_net(df_h, columns = 'gene', source_organism = 'human', target_organism = 'mouse')\n",
    "\n",
    "# the translation success is 80% vs 94% in these two cases, likely because I used a rather outdated\n",
    "# table from my local cache, while the decoupler solution uses Daniel's implementation with HomoloGene\n",
    "# which is also outdated, we're working on a proper solution\n",
    "df_h_m_pp.gene.unique().shape\n",
    "(15433,)\n",
    "df_h_m_pp.gene.unique().shape[0] / df_h.gene.shape[0]\n",
    "0.8046\n",
    "df_h_m_dc.gene.unique().shape\n",
    "(18031,)\n",
    "df_h_m_dc.gene.unique().shape[0] / df_h.gene.shape[0]\n",
    "0.9401"
   ]
  },
  {
   "cell_type": "code",
   "execution_count": 13,
   "id": "0ccb4571",
   "metadata": {},
   "outputs": [
    {
     "ename": "NameError",
     "evalue": "name 'homology' is not defined",
     "output_type": "error",
     "traceback": [
      "\u001b[0;31m---------------------------------------------------------------------------\u001b[0m",
      "\u001b[0;31mNameError\u001b[0m                                 Traceback (most recent call last)",
      "Cell \u001b[0;32mIn[13], line 21\u001b[0m\n\u001b[1;32m     19\u001b[0m df_h \u001b[38;5;241m=\u001b[39m df_h\u001b[38;5;241m.\u001b[39mmerge(up_gs_human, left_on \u001b[38;5;241m=\u001b[39m \u001b[38;5;124m'\u001b[39m\u001b[38;5;124mgene\u001b[39m\u001b[38;5;124m'\u001b[39m, right_on \u001b[38;5;241m=\u001b[39m \u001b[38;5;124m'\u001b[39m\u001b[38;5;124mgenesymbol\u001b[39m\u001b[38;5;124m'\u001b[39m, how \u001b[38;5;241m=\u001b[39m \u001b[38;5;124m'\u001b[39m\u001b[38;5;124mleft\u001b[39m\u001b[38;5;124m'\u001b[39m)\n\u001b[1;32m     20\u001b[0m \u001b[38;5;66;03m# translate the human UniProt to mouse UniProt\u001b[39;00m\n\u001b[0;32m---> 21\u001b[0m human_mouse \u001b[38;5;241m=\u001b[39m homology\u001b[38;5;241m.\u001b[39mget_df(\u001b[38;5;241m10090\u001b[39m)\n\u001b[1;32m     22\u001b[0m df_h_m \u001b[38;5;241m=\u001b[39m df_h\u001b[38;5;241m.\u001b[39mmerge(human_mouse, left_on \u001b[38;5;241m=\u001b[39m \u001b[38;5;124m'\u001b[39m\u001b[38;5;124muniprot\u001b[39m\u001b[38;5;124m'\u001b[39m, right_on \u001b[38;5;241m=\u001b[39m \u001b[38;5;124m'\u001b[39m\u001b[38;5;124msource\u001b[39m\u001b[38;5;124m'\u001b[39m, how \u001b[38;5;241m=\u001b[39m \u001b[38;5;124m'\u001b[39m\u001b[38;5;124mleft\u001b[39m\u001b[38;5;124m'\u001b[39m)\n",
      "\u001b[0;31mNameError\u001b[0m: name 'homology' is not defined"
     ]
    }
   ],
   "source": [
    "human_gs = set(hs.gene.unique())\n",
    "up_gs_human = mapping.translation_df('uniprot', 'genesymbol')\n",
    "\n",
    "non_primary_human_gs = human_gs - set(up_gs_human.genesymbol.unique())\n",
    "# these are the ones we don't see in UniProt\n",
    "len(non_primary_human_gs)\n",
    "\n",
    "list(non_primary_human_gs)[:100]\n",
    "\n",
    "mapping.map_name('TWISTNB', 'genesymbol', 'uniprot')\n",
    "\n",
    "df_h = df[df.gene.isin(primary_human_gs)]\n",
    "df_h = df_h[df_h.spec == 'Hs']\n",
    "df_h.shape\n",
    "(19137, 2)\n",
    "df_h['record'] = list(range(0, df_h.shape[0]))\n",
    "\n",
    "# translate the human gene symbols to UniProt\n",
    "df_h = df_h.merge(up_gs_human, left_on = 'gene', right_on = 'genesymbol', how = 'left')\n",
    "# translate the human UniProt to mouse UniProt\n",
    "human_mouse = homology.get_df(10090)\n",
    "df_h_m = df_h.merge(human_mouse, left_on = 'uniprot', right_on = 'source', how = 'left')"
   ]
  },
  {
   "cell_type": "code",
   "execution_count": 12,
   "id": "878e0f28",
   "metadata": {},
   "outputs": [
    {
     "data": {
      "text/html": [
       "<div>\n",
       "<style scoped>\n",
       "    .dataframe tbody tr th:only-of-type {\n",
       "        vertical-align: middle;\n",
       "    }\n",
       "\n",
       "    .dataframe tbody tr th {\n",
       "        vertical-align: top;\n",
       "    }\n",
       "\n",
       "    .dataframe thead th {\n",
       "        text-align: right;\n",
       "    }\n",
       "</style>\n",
       "<table border=\"1\" class=\"dataframe\">\n",
       "  <thead>\n",
       "    <tr style=\"text-align: right;\">\n",
       "      <th></th>\n",
       "      <th>gene</th>\n",
       "      <th>spec</th>\n",
       "      <th>record</th>\n",
       "    </tr>\n",
       "  </thead>\n",
       "  <tbody>\n",
       "    <tr>\n",
       "      <th>0</th>\n",
       "      <td>HBG2</td>\n",
       "      <td>Hs</td>\n",
       "      <td>0</td>\n",
       "    </tr>\n",
       "    <tr>\n",
       "      <th>1</th>\n",
       "      <td>HBG1</td>\n",
       "      <td>Hs</td>\n",
       "      <td>1</td>\n",
       "    </tr>\n",
       "    <tr>\n",
       "      <th>2</th>\n",
       "      <td>TMSB15A</td>\n",
       "      <td>Hs</td>\n",
       "      <td>2</td>\n",
       "    </tr>\n",
       "    <tr>\n",
       "      <th>3</th>\n",
       "      <td>ANLN</td>\n",
       "      <td>Hs</td>\n",
       "      <td>3</td>\n",
       "    </tr>\n",
       "    <tr>\n",
       "      <th>4</th>\n",
       "      <td>TCAP</td>\n",
       "      <td>Hs</td>\n",
       "      <td>4</td>\n",
       "    </tr>\n",
       "    <tr>\n",
       "      <th>...</th>\n",
       "      <td>...</td>\n",
       "      <td>...</td>\n",
       "      <td>...</td>\n",
       "    </tr>\n",
       "    <tr>\n",
       "      <th>42477</th>\n",
       "      <td>IRAG1</td>\n",
       "      <td>Hs</td>\n",
       "      <td>19098</td>\n",
       "    </tr>\n",
       "    <tr>\n",
       "      <th>42480</th>\n",
       "      <td>SMIM11</td>\n",
       "      <td>Hs</td>\n",
       "      <td>19099</td>\n",
       "    </tr>\n",
       "    <tr>\n",
       "      <th>42481</th>\n",
       "      <td>RIMOC1</td>\n",
       "      <td>Hs</td>\n",
       "      <td>19100</td>\n",
       "    </tr>\n",
       "    <tr>\n",
       "      <th>42482</th>\n",
       "      <td>UPK3BL2</td>\n",
       "      <td>Hs</td>\n",
       "      <td>19101</td>\n",
       "    </tr>\n",
       "    <tr>\n",
       "      <th>42489</th>\n",
       "      <td>CENPBD1P</td>\n",
       "      <td>Hs</td>\n",
       "      <td>19102</td>\n",
       "    </tr>\n",
       "  </tbody>\n",
       "</table>\n",
       "<p>19103 rows × 3 columns</p>\n",
       "</div>"
      ],
      "text/plain": [
       "           gene spec  record\n",
       "0          HBG2   Hs       0\n",
       "1          HBG1   Hs       1\n",
       "2       TMSB15A   Hs       2\n",
       "3          ANLN   Hs       3\n",
       "4          TCAP   Hs       4\n",
       "...         ...  ...     ...\n",
       "42477     IRAG1   Hs   19098\n",
       "42480    SMIM11   Hs   19099\n",
       "42481    RIMOC1   Hs   19100\n",
       "42482   UPK3BL2   Hs   19101\n",
       "42489  CENPBD1P   Hs   19102\n",
       "\n",
       "[19103 rows x 3 columns]"
      ]
     },
     "execution_count": 12,
     "metadata": {},
     "output_type": "execute_result"
    }
   ],
   "source": [
    "df_h"
   ]
  },
  {
   "cell_type": "markdown",
   "id": "be6430da",
   "metadata": {},
   "source": [
    "## Translate from human to Mouse"
   ]
  },
  {
   "cell_type": "code",
   "execution_count": 25,
   "id": "037f344f",
   "metadata": {},
   "outputs": [
    {
     "name": "stdout",
     "output_type": "stream",
     "text": [
      "Number of genes pre translation: 30880\n",
      "Number of genes post translation: 2170\n"
     ]
    }
   ],
   "source": [
    "\n",
    "hs_to_mm = dc.translate_net(hs, columns=\"gene\", source_organism=\"human\", target_organism=\"mouse\")\n",
    "\n",
    "print(f\"Number of genes pre translation: {hs.shape[0]}\")\n",
    "print(f\"Number of genes post translation: {hs_to_mm.shape[0]}\")"
   ]
  },
  {
   "cell_type": "markdown",
   "id": "9c1f41a2",
   "metadata": {},
   "source": [
    "## Translate from rat to mouse"
   ]
  },
  {
   "cell_type": "code",
   "execution_count": 26,
   "id": "a026f9c3",
   "metadata": {},
   "outputs": [
    {
     "name": "stdout",
     "output_type": "stream",
     "text": [
      "Number of genes pre translation: 8372\n",
      "Number of genes post translation: 3\n"
     ]
    }
   ],
   "source": [
    "rn_to_mm = dc.translate_net(rn, columns=\"gene\", source_organism=\"rat\", target_organism=\"mouse\")\n",
    "\n",
    "print(f\"Number of genes pre translation: {rn.shape[0]}\")\n",
    "print(f\"Number of genes post translation: {rn_to_mm.shape[0]}\")"
   ]
  },
  {
   "cell_type": "code",
   "execution_count": 27,
   "id": "3f46c7da-b6aa-4e79-a1dc-ea7df56bd906",
   "metadata": {},
   "outputs": [],
   "source": [
    "# Create a list of data frames\n",
    "data_frames = [hs_to_mm, hs, rn_to_mm, rn]\n",
    "\n",
    "# Define file names for CSV files\n",
    "file_names = ['hs_to_mm.csv', \"hs.csv\", 'rn_to_mm.csv', \"rn.csv\"]\n",
    "\n",
    "# Loop through the list and save each data frame as a CSV file\n",
    "for i, df in enumerate(data_frames):\n",
    "    df.to_csv(file_names[i], index=False)\n"
   ]
  }
 ],
 "metadata": {
  "kernelspec": {
   "display_name": "Python 3 (ipykernel)",
   "language": "python",
   "name": "python3"
  },
  "language_info": {
   "codemirror_mode": {
    "name": "ipython",
    "version": 3
   },
   "file_extension": ".py",
   "mimetype": "text/x-python",
   "name": "python",
   "nbconvert_exporter": "python",
   "pygments_lexer": "ipython3",
   "version": "3.12.0"
  }
 },
 "nbformat": 4,
 "nbformat_minor": 5
}
